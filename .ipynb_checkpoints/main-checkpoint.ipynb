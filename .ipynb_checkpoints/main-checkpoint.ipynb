{
 "cells": [
  {
   "cell_type": "code",
   "execution_count": 38,
   "metadata": {},
   "outputs": [],
   "source": [
    "import ecurve as ec\n",
    "import numpy as np\n",
    "import matplotlib.pyplot as plt\n",
    "import matplotlib.patches as pch\n",
    "import itertools as it"
   ]
  },
  {
   "cell_type": "code",
   "execution_count": 39,
   "metadata": {},
   "outputs": [],
   "source": [
    "E = ec.ECurve(p=31, a=-3, b=1)"
   ]
  },
  {
   "cell_type": "code",
   "execution_count": 40,
   "metadata": {},
   "outputs": [],
   "source": [
    "P = E.point(19, 18)\n",
    "Q = E.point(25, 19)\n",
    "# Q = E.point(19, 18)"
   ]
  },
  {
   "cell_type": "code",
   "execution_count": 41,
   "metadata": {},
   "outputs": [
    {
     "name": "stdout",
     "output_type": "stream",
     "text": [
      "(12, 9) 26 20\n"
     ]
    }
   ],
   "source": [
    "R, m = P + Q\n",
    "b = P.y - m * P.x\n",
    "print(-R, m, b)"
   ]
  },
  {
   "cell_type": "code",
   "execution_count": 42,
   "metadata": {},
   "outputs": [],
   "source": [
    "x, y = np.ogrid[0 : E.ff.p, 0 : E.ff.p]\n",
    "\n",
    "points = np.array([\n",
    "    point\n",
    "    for point in it.product(x.ravel(), y.ravel())\n",
    "    if E.on_curve(point[0], point[1])\n",
    "])\n",
    "\n",
    "xs = points[:,0]\n",
    "ys = points[:,1]\n",
    "\n",
    "ys_pq = [int(E.ff(i)) for i in (int(m) * x + int(b))]\n",
    "xs_pq = list(x.squeeze())"
   ]
  },
  {
   "cell_type": "code",
   "execution_count": 43,
   "metadata": {},
   "outputs": [
    {
     "data": {
      "image/png": "[encoded data removed]",
      "text/plain": [
       "<Figure size 720x720 with 1 Axes>"
      ]
     },
     "metadata": {
      "needs_background": "light"
     },
     "output_type": "display_data"
    }
   ],
   "source": [
    "fig = plt.figure(\"Finite Space\", (10, 10))\n",
    "#\n",
    "# FField\n",
    "#\n",
    "plt.plot(xs, ys, \".\", markersize=14, markeredgewidth=2, color=\"lightblue\", markerfacecolor=\"white\")\n",
    "#\n",
    "# P and Q lines\n",
    "#\n",
    "plt.plot(xs_pq, ys_pq, \".\", markersize=14, markeredgewidth=3, color=\"orange\")\n",
    "#\n",
    "# P and Q points\n",
    "#\n",
    "plt.plot(\n",
    "    (int(P.x), int(Q.x)),\n",
    "    (int(P.y), int(Q.y)),\n",
    "    \".\",\n",
    "    markersize=14,\n",
    "    color=\"orange\",\n",
    "    markerfacecolor=\"white\",\n",
    ")\n",
    "#\n",
    "# R line\n",
    "#\n",
    "plt.plot(\n",
    "    (int(R.x), int(R.x)),\n",
    "    (int(R.y), int(-R.y)),\n",
    "    \".-\",\n",
    "    markersize=14,\n",
    "    color=\"red\",\n",
    "    markerfacecolor=\"red\",\n",
    ")\n",
    "#\n",
    "# R point\n",
    "#\n",
    "plt.plot(int(R.x), int(-R.y), \".\", markersize=14, markeredgewidth=2, color=\"red\", markerfacecolor=\"white\")\n",
    "#\n",
    "# Labels\n",
    "#\n",
    "t_x = P.x.int() + 0.75\n",
    "t_y = P.y.int() - 0.75\n",
    "\n",
    "plt.text(t_x, t_y, \"P\")\n",
    "ax = fig.axes[0]\n",
    "ax.add_patch(\n",
    "    pch.Circle(\n",
    "        (t_x + 0.15, t_y + 0.25),\n",
    "        radius=0.5,\n",
    "        edgecolor=\"orange\",\n",
    "        facecolor=\"orange\",\n",
    "    )\n",
    ")\n",
    "\n",
    "if P != Q:\n",
    "    t_x = Q.x.int() + 0.5\n",
    "    t_y = Q.y.int() - 0.55\n",
    "\n",
    "    plt.text(t_x, t_y, \"Q\")\n",
    "    ax = fig.axes[0]\n",
    "    ax.add_patch(\n",
    "        pch.Circle(\n",
    "            (t_x + 0.25, t_y + 0.25),\n",
    "            radius=0.5,\n",
    "            edgecolor=\"orange\",\n",
    "            facecolor=\"orange\",\n",
    "        )\n",
    "    )\n",
    "\n",
    "t_x = R.x.int() + 0.75\n",
    "t_y = (-R.y).int() - 0.75\n",
    "\n",
    "plt.text(t_x, t_y, \"R\")\n",
    "ax = fig.axes[0]\n",
    "ax.add_patch(\n",
    "    pch.Circle(\n",
    "        (t_x + 0.15, t_y + 0.25),\n",
    "        radius=0.5,\n",
    "        edgecolor=\"red\",\n",
    "        facecolor=\"red\",\n",
    "    )\n",
    ")\n",
    "#\n",
    "#\n",
    "#\n",
    "# plt.xticks(np.arange(0, F.p, 10))\n",
    "# plt.yticks(np.arange(0, F.p, 10))\n",
    "\n",
    "plt.xlim(0, E.ff.p - 1)\n",
    "plt.ylim(0, E.ff.p - 1)\n",
    "\n",
    "plt.grid()\n",
    "plt.show()\n"
   ]
  },
  {
   "cell_type": "code",
   "execution_count": null,
   "metadata": {},
   "outputs": [],
   "source": []
  },
  {
   "cell_type": "code",
   "execution_count": null,
   "metadata": {},
   "outputs": [],
   "source": []
  }
 ],
 "metadata": {
  "interpreter": {
   "hash": "27464bc97fb56ca85f096d6152ec8cc0a0ae3bc708c2ee889b7e94bf3eb81e91"
  },
  "kernelspec": {
   "display_name": "Python 3",
   "language": "python",
   "name": "python3"
  },
  "language_info": {
   "codemirror_mode": {
    "name": "ipython",
    "version": 3
   },
   "file_extension": ".py",
   "mimetype": "text/x-python",
   "name": "python",
   "nbconvert_exporter": "python",
   "pygments_lexer": "ipython3",
   "version": "3.8.0"
  }
 },
 "nbformat": 4,
 "nbformat_minor": 4
}
